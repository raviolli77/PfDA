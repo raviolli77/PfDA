{
 "cells": [
  {
   "cell_type": "markdown",
   "metadata": {},
   "source": [
    "# Python for Data Analysis\n",
    "## Author Wes McKinney \n",
    "\n",
    "### Jupyter Notebook Created for following tutorial on DA for Python\n",
    "(Book for purchase can be found here: http://shop.oreilly.com/product/0636920023784.do)\n",
    "\n",
    "+ Raul Eulogio, 10/01/2016\n",
    "\n",
    "## Chapter 4: NumPy Basics\n",
    "### Arrays and Vectorized Computation"
   ]
  },
  {
   "cell_type": "markdown",
   "metadata": {},
   "source": [
    "Remember to load ya packages or else its you'll get a lot of errors later on"
   ]
  },
  {
   "cell_type": "code",
   "execution_count": 1,
   "metadata": {
    "collapsed": false
   },
   "outputs": [],
   "source": [
    "import numpy as np\n",
    "from numpy.random import randn\n",
    "import matplotlib.pyplot as plt"
   ]
  },
  {
   "cell_type": "markdown",
   "metadata": {},
   "source": [
    "We going to do some slicing and indexing \n"
   ]
  },
  {
   "cell_type": "code",
   "execution_count": 21,
   "metadata": {
    "collapsed": false
   },
   "outputs": [
    {
     "name": "stdout",
     "output_type": "stream",
     "text": [
      "[0 1 2 3 4 5 6 7 8 9]\n"
     ]
    }
   ],
   "source": [
    "# first we create an array that will utilize the arange function for numpy \n",
    "arr = np.arange(10)\n",
    "print arr"
   ]
  },
  {
   "cell_type": "markdown",
   "metadata": {},
   "source": [
    "Remember in python we index by starting at 0 so arange creates n-1 which is 9! Let's call up the value 7 to show this\n"
   ]
  },
  {
   "cell_type": "code",
   "execution_count": 4,
   "metadata": {
    "collapsed": false
   },
   "outputs": [
    {
     "name": "stdout",
     "output_type": "stream",
     "text": [
      "7\n"
     ]
    }
   ],
   "source": [
    "print arr[7]"
   ]
  },
  {
   "cell_type": "markdown",
   "metadata": {},
   "source": [
    "So next we index by calling more than one at a time using the : let's try index  4 thru 7"
   ]
  },
  {
   "cell_type": "code",
   "execution_count": 4,
   "metadata": {
    "collapsed": false
   },
   "outputs": [
    {
     "name": "stdout",
     "output_type": "stream",
     "text": [
      "[4 5 6]\n"
     ]
    }
   ],
   "source": [
    "print arr[4:7]"
   ]
  },
  {
   "cell_type": "code",
   "execution_count": 5,
   "metadata": {
    "collapsed": false
   },
   "outputs": [
    {
     "name": "stdout",
     "output_type": "stream",
     "text": [
      "[ 0  1 42 42  4  5  6  7  8  9]\n"
     ]
    }
   ],
   "source": [
    "# Next let's change the values for a group of indices! \n",
    "# Notice how it changes them all super important to differentiate this!\n",
    "# Especially when using a shit ton of rows in analysis \n",
    "arr[2:4] = 42\n",
    "print arr"
   ]
  },
  {
   "cell_type": "markdown",
   "metadata": {},
   "source": [
    "here we'll see how np arrays work in that even though we created a new object named arr_slice. when we change the value for that variable the original object (arr) will also have these changes! SUPER IMPORTANT TO KEEP IN MIND WHEN DOING ANALYSIS. Idk if pandas does the same but I'm not use to that"
   ]
  },
  {
   "cell_type": "code",
   "execution_count": 6,
   "metadata": {
    "collapsed": false
   },
   "outputs": [
    {
     "name": "stdout",
     "output_type": "stream",
     "text": [
      "42\n",
      "[    0     1    42 12345     4     5     6     7     8     9]\n"
     ]
    }
   ],
   "source": [
    "arr_slice = arr[2:4]\n",
    "print arr_slice[1]\n",
    "arr_slice[1] = 12345\n",
    "print arr"
   ]
  },
  {
   "cell_type": "markdown",
   "metadata": {},
   "source": [
    "Look at that!! Remember this shit. Now we do other shit that's super important!"
   ]
  },
  {
   "cell_type": "code",
   "execution_count": 7,
   "metadata": {
    "collapsed": false
   },
   "outputs": [
    {
     "name": "stdout",
     "output_type": "stream",
     "text": [
      "[ 0  1 69 69  4  5  6  7  8  9]\n"
     ]
    }
   ],
   "source": [
    "arr_slice[:] = 69\n",
    "print arr"
   ]
  },
  {
   "cell_type": "markdown",
   "metadata": {},
   "source": [
    "See that shit!! important af. This is how you recognize the (I'm assuming) difference between numpy arrays and pandas data frames. Since the book keeps telling me that this is how numpy is set apart from other forms of data storage. WHich makes a shit ton of sense cus I'm use to data frames with r where once you subset an object it is its own entity!"
   ]
  },
  {
   "cell_type": "markdown",
   "metadata": {},
   "source": [
    "The way you make a copy you need to explicitly make a copy!!!! \n"
   ]
  },
  {
   "cell_type": "code",
   "execution_count": 8,
   "metadata": {
    "collapsed": false
   },
   "outputs": [
    {
     "name": "stdout",
     "output_type": "stream",
     "text": [
      "[69 69]\n",
      "[14 14]\n",
      "[ 0  1 69 69  4  5  6  7  8  9]\n"
     ]
    }
   ],
   "source": [
    "arr_copy = arr[2:4].copy()\n",
    "print arr_copy\n",
    "arr_copy[:] = 14\n",
    "# First we print the copy to make sure the values changed to 14\n",
    "print arr_copy\n",
    "# Now we print the original array to see that was left untouched\n",
    "print arr "
   ]
  },
  {
   "cell_type": "markdown",
   "metadata": {},
   "source": [
    "Now that we're done with the easy shit let's go balls deep into the good shit. The shit with dimensions!!!"
   ]
  },
  {
   "cell_type": "code",
   "execution_count": 9,
   "metadata": {
    "collapsed": false
   },
   "outputs": [
    {
     "name": "stdout",
     "output_type": "stream",
     "text": [
      "Here's the array\n",
      "[[  1   2   3]\n",
      " [ 77 109  23]\n",
      " [ 13  90  33]]\n",
      "Index selecting for 2d array\n",
      "[13 90 33]\n"
     ]
    }
   ],
   "source": [
    "# First we create the 2d array \n",
    "arr2d = np.array([[1, 2, 3], [77, 109, 23], [13, 90, 33]])\n",
    "print \"Here's the array\"\n",
    "print arr2d\n",
    "# Let's scope out the indexing for this bitch\n",
    "print \"Index selecting for 2d array\"\n",
    "print arr2d[2]"
   ]
  },
  {
   "cell_type": "markdown",
   "metadata": {},
   "source": [
    "Next we access individual values within the 2d array which is done more than one way but I'll mention which is the most used "
   ]
  },
  {
   "cell_type": "code",
   "execution_count": 10,
   "metadata": {
    "collapsed": false
   },
   "outputs": [
    {
     "name": "stdout",
     "output_type": "stream",
     "text": [
      "A way of doing it (not recommended)\n",
      "3\n",
      "Proper way, son. Facts b\n",
      "3\n"
     ]
    }
   ],
   "source": [
    "# Here's a way you can do it but its not the recommended way!\n",
    "print \"A way of doing it (not recommended)\"\n",
    "print arr2d[0][2]\n",
    "# Here the actual way to do it\n",
    "print \"Proper way, son. Facts b\"\n",
    "print arr2d[0, 2]"
   ]
  },
  {
   "cell_type": "markdown",
   "metadata": {},
   "source": [
    "# NOW WE DO SOME 3D SHIT TO FUCK WIT YO SHIT"
   ]
  },
  {
   "cell_type": "code",
   "execution_count": 12,
   "metadata": {
    "collapsed": false
   },
   "outputs": [
    {
     "name": "stdout",
     "output_type": "stream",
     "text": [
      "[[[1, 5, 3] [5, 7, 2]]\n",
      " [[12, 6, 666] [0, 54, 8, 54]]]\n"
     ]
    }
   ],
   "source": [
    "arr3d = np.array([[[1, 5, 3],[5, 7, 2]], [[12, 6, 666], [0, 54, 8, 54]]])\n",
    "print arr3d"
   ]
  },
  {
   "cell_type": "markdown",
   "metadata": {},
   "source": [
    "Let's fuck with some indexing and slicing on this bad boy here"
   ]
  },
  {
   "cell_type": "code",
   "execution_count": 13,
   "metadata": {
    "collapsed": false
   },
   "outputs": [
    {
     "name": "stdout",
     "output_type": "stream",
     "text": [
      "[[1, 5, 3] [5, 7, 2]]\n"
     ]
    }
   ],
   "source": [
    "print arr3d[0]"
   ]
  },
  {
   "cell_type": "markdown",
   "metadata": {},
   "source": [
    "Now let's make a copy of this 3d array and do shit with it"
   ]
  },
  {
   "cell_type": "code",
   "execution_count": 14,
   "metadata": {
    "collapsed": false
   },
   "outputs": [
    {
     "name": "stdout",
     "output_type": "stream",
     "text": [
      "Here's the old values\n",
      "[[1, 5, 3] [5, 7, 2]]\n",
      "Here's the og array\n",
      "[[[42, 42, 42] [42, 42, 42]]\n",
      " [[12, 6, 666] [0, 54, 8, 54]]]\n"
     ]
    }
   ],
   "source": [
    "old_values = arr3d[0].copy()\n",
    "print \"Here's the old values\"\n",
    "print old_values\n",
    "arr3d[0] = [[42, 42, 42],[42, 42, 42]]\n",
    "print \"Here's the og array\"\n",
    "print arr3d"
   ]
  },
  {
   "cell_type": "markdown",
   "metadata": {},
   "source": [
    "Let's fuck some shit up"
   ]
  },
  {
   "cell_type": "code",
   "execution_count": 15,
   "metadata": {
    "collapsed": false
   },
   "outputs": [
    {
     "name": "stdout",
     "output_type": "stream",
     "text": [
      "Here's the og object\n",
      "[[[42, 42, 42] [42, 42, 42]]\n",
      " [[12, 6, 666] [0, 54, 8, 54]]]\n",
      "Here's transformation I did\n",
      "[[[1, 5, 3] [5, 7, 2]]\n",
      " [[12, 6, 666] [0, 54, 8, 54]]]\n",
      "Here are values whose indices start with (1, 0)\n",
      "[12, 6, 666]\n"
     ]
    }
   ],
   "source": [
    "# Here we change the values because we fucking can \n",
    "print \"Here's the og object\"\n",
    "print arr3d\n",
    "# Next we change the values according to the old values and the object chagnes accordingly!!!! FUCK YESS!!\n",
    "arr3d[0] = old_values\n",
    "print \"Here's transformation I did\"\n",
    "print arr3d\n",
    "# Now let's do ome indexing that will make data 1d\n",
    "print \"Here are values whose indices start with (1, 0)\"\n",
    "print arr3d[1, 0]"
   ]
  },
  {
   "cell_type": "markdown",
   "metadata": {},
   "source": [
    "# Next we index with slicing \n"
   ]
  },
  {
   "cell_type": "code",
   "execution_count": 16,
   "metadata": {
    "collapsed": false
   },
   "outputs": [
    {
     "name": "stdout",
     "output_type": "stream",
     "text": [
      "The original array\n",
      "[ 0  1 69 69  4  5  6  7  8  9]\n",
      "Here we slice by index\n",
      "[ 1 69 69  4  5]\n"
     ]
    }
   ],
   "source": [
    "# I need to print the original array because I probably wouldn't have context \n",
    "print \"The original array\"\n",
    "print arr\n",
    "print \"Here we slice by index\"\n",
    "print arr[1:6]"
   ]
  },
  {
   "cell_type": "code",
   "execution_count": 17,
   "metadata": {
    "collapsed": false
   },
   "outputs": [
    {
     "name": "stdout",
     "output_type": "stream",
     "text": [
      "Here's the 2d array\n",
      "[[  1   2   3]\n",
      " [ 77 109  23]\n",
      " [ 13  90  33]]\n",
      "Here's some playing with the index\n",
      "[[  2   3]\n",
      " [109  23]]\n"
     ]
    }
   ],
   "source": [
    "print \"Here's the 2d array\"\n",
    "print arr2d\n",
    "print \"Here's some playing with the index\"\n",
    "print arr2d[:2, 1:]"
   ]
  },
  {
   "cell_type": "markdown",
   "metadata": {},
   "source": [
    "# Boolean Indexing\n",
    "Here we're going to fuck with some arrays that have repeated values (in our case strings) "
   ]
  },
  {
   "cell_type": "code",
   "execution_count": 20,
   "metadata": {
    "collapsed": false
   },
   "outputs": [
    {
     "name": "stdout",
     "output_type": "stream",
     "text": [
      "['Bob' 'Joe' 'Will' 'Bob' 'Will' 'Joe' 'Joe']\n",
      "[[ 0.1489931  -0.04264036  0.02788588 -1.07346032]\n",
      " [-0.58804556  0.17743556  1.4574384  -0.37701545]\n",
      " [ 0.22374794  0.0990523  -1.47524875 -1.56494597]\n",
      " [-0.68889717  0.19494742  1.18597277  0.18799693]\n",
      " [ 1.04208164 -0.29814606  0.09276226 -2.36575898]\n",
      " [-0.05149693 -0.08322902  0.31386553  1.65567775]\n",
      " [-0.86803185  1.44614979 -0.68222611 -0.93578424]]\n"
     ]
    }
   ],
   "source": [
    "names = np.array(['Bob', 'Joe', 'Will', 'Bob', 'Will', 'Joe', 'Joe'])\n",
    "data = np.random.randn(7, 4)\n",
    "print names\n",
    "print data # Should give us a 7 by 4 matrix!"
   ]
  },
  {
   "cell_type": "markdown",
   "metadata": {},
   "source": [
    "Let's play around with some commands to get familiar with indexing with boolean statements! \n",
    "The following statement will look into the array and output whether its 'Bob' or not.\n",
    "Intuitively it outputs 'True' if the value is 'Bob', 'False' if it's not 'Bob'"
   ]
  },
  {
   "cell_type": "code",
   "execution_count": 24,
   "metadata": {
    "collapsed": false
   },
   "outputs": [
    {
     "name": "stdout",
     "output_type": "stream",
     "text": [
      "[ True False False  True False False False]\n"
     ]
    }
   ],
   "source": [
    "print names == 'Bob'"
   ]
  },
  {
   "cell_type": "code",
   "execution_count": 30,
   "metadata": {
    "collapsed": false
   },
   "outputs": [
    {
     "name": "stdout",
     "output_type": "stream",
     "text": [
      "[[ 0.1489931  -0.04264036  0.02788588 -1.07346032]\n",
      " [-0.68889717  0.19494742  1.18597277  0.18799693]]\n",
      "Do the same for will\n",
      "[[ 0.22374794  0.0990523  -1.47524875 -1.56494597]\n",
      " [ 1.04208164 -0.29814606  0.09276226 -2.36575898]]\n",
      "Last but not least Joe\n",
      "[[-0.58804556  0.17743556  1.4574384  -0.37701545]\n",
      " [-0.05149693 -0.08322902  0.31386553  1.65567775]\n",
      " [-0.86803185  1.44614979 -0.68222611 -0.93578424]]\n"
     ]
    }
   ],
   "source": [
    "print data[names == 'Bob']\n",
    "print 'Do the same for will'\n",
    "print data[names == 'Will']\n",
    "print 'Last but not least Joe'\n",
    "print data[names == 'Joe']"
   ]
  },
  {
   "cell_type": "markdown",
   "metadata": {},
   "source": [
    "## Universal Functions: Fast Element-wise Array Functions\n",
    "\n",
    "+ 11/15/2016\n",
    "\n",
    "A universal function, or *ufunc*, is a function that performs elementwise operations on data in ndarrays. Let's see it in motion through examples:"
   ]
  },
  {
   "cell_type": "code",
   "execution_count": 18,
   "metadata": {
    "collapsed": false
   },
   "outputs": [
    {
     "name": "stdout",
     "output_type": "stream",
     "text": [
      "Here's our function arr:\n",
      "[0 1 2 3 4 5 6 7 8 9]\n",
      "Here's the output for the ufunc sqrt:\n",
      "[ 0.          1.          1.41421356  1.73205081  2.          2.23606798\n",
      "  2.44948974  2.64575131  2.82842712  3.        ]\n",
      "Here's the output for the ufunc exp:\n",
      "[  1.00000000e+00   2.71828183e+00   7.38905610e+00   2.00855369e+01\n",
      "   5.45981500e+01   1.48413159e+02   4.03428793e+02   1.09663316e+03\n",
      "   2.98095799e+03   8.10308393e+03]\n"
     ]
    }
   ],
   "source": [
    "arr = np.arange(10)\n",
    "print(\"Here's our function arr:\")\n",
    "print(arr)\n",
    "\n",
    "# Square root function pretty self-explanatory\n",
    "print(\"Here's the output for the ufunc sqrt:\")\n",
    "print(np.sqrt(arr))\n",
    "\n",
    "# Exponential function like-wise\n",
    "print(\"Here's the output for the ufunc exp:\")\n",
    "print(np.exp(arr))\n"
   ]
  },
  {
   "cell_type": "markdown",
   "metadata": {},
   "source": [
    "So these functions are referred to as *unary ufuncs*, because they only **take in one array**.\n",
    "\n",
    "Other *ufuncs* like `add` or `maximum`, take on 2 arrays as parameters, so they are called *binary ufuncs* and return a single array. Again let's see an example:"
   ]
  },
  {
   "cell_type": "code",
   "execution_count": 30,
   "metadata": {
    "collapsed": false
   },
   "outputs": [
    {
     "name": "stdout",
     "output_type": "stream",
     "text": [
      "Here's x!\n",
      "[ 0.84525324  0.5564459  -0.48976689 -0.60057097  1.75557823  1.72217474\n",
      " -0.50008848 -0.77313331]\n",
      "Here's y!\n",
      "[ 0.27643101 -0.23731781  0.69172893  0.10385902 -0.15809887 -0.1790136\n",
      " -0.31189244  0.82841644]\n"
     ]
    },
    {
     "data": {
      "text/plain": [
       "array([ 0.84525324,  0.5564459 ,  0.69172893,  0.10385902,  1.75557823,\n",
       "        1.72217474, -0.31189244,  0.82841644])"
      ]
     },
     "execution_count": 30,
     "metadata": {},
     "output_type": "execute_result"
    }
   ],
   "source": [
    "# Here we use randn to create two arrays \n",
    "x = np.random.randn(8)\n",
    "y = np.random.randn(8)\n",
    "\n",
    "print(\"Here's x!\")\n",
    "print(x)\n",
    "print(\"Here's y!\")\n",
    "print(y)\n",
    "\n",
    "np.maximum(x, y) # element-wise maximum so yeah binary ufunc in action!\n"
   ]
  },
  {
   "cell_type": "markdown",
   "metadata": {},
   "source": [
    "In the text book you can get a list of both *unary* and *binary ufuncs* pg. 96! \n",
    "\n",
    "\n",
    "## Data Processing Using Arrays \n",
    "The process of using expressions to replace the use of loops is called *vectorization*, and come in handy in **NumPy**. \n",
    "\n",
    "Example: Suppose we want to do `sqrt(x^2 + y^2)` across a grid of values. The `np.meshgrid` function takes two 1D arrays and produces two 2D matrices corresponding to all pairs of `(x, y)` as follows: \n"
   ]
  },
  {
   "cell_type": "code",
   "execution_count": 4,
   "metadata": {
    "collapsed": false
   },
   "outputs": [
    {
     "data": {
      "text/plain": [
       "array([[-5.  , -5.  , -5.  , ..., -5.  , -5.  , -5.  ],\n",
       "       [-4.99, -4.99, -4.99, ..., -4.99, -4.99, -4.99],\n",
       "       [-4.98, -4.98, -4.98, ..., -4.98, -4.98, -4.98],\n",
       "       ..., \n",
       "       [ 4.97,  4.97,  4.97, ...,  4.97,  4.97,  4.97],\n",
       "       [ 4.98,  4.98,  4.98, ...,  4.98,  4.98,  4.98],\n",
       "       [ 4.99,  4.99,  4.99, ...,  4.99,  4.99,  4.99]])"
      ]
     },
     "execution_count": 4,
     "metadata": {},
     "output_type": "execute_result"
    }
   ],
   "source": [
    "points = np.arange(-5, 5, 0.01) # 1000 equally spaced points\n",
    "\n",
    "xs, ys = np.meshgrid(points, points)\n",
    "\n",
    "ys"
   ]
  },
  {
   "cell_type": "code",
   "execution_count": 5,
   "metadata": {
    "collapsed": false
   },
   "outputs": [
    {
     "data": {
      "text/plain": [
       "array([[ 7.07106781,  7.06400028,  7.05693985, ...,  7.04988652,\n",
       "         7.05693985,  7.06400028],\n",
       "       [ 7.06400028,  7.05692568,  7.04985815, ...,  7.04279774,\n",
       "         7.04985815,  7.05692568],\n",
       "       [ 7.05693985,  7.04985815,  7.04278354, ...,  7.03571603,\n",
       "         7.04278354,  7.04985815],\n",
       "       ..., \n",
       "       [ 7.04988652,  7.04279774,  7.03571603, ...,  7.0286414 ,\n",
       "         7.03571603,  7.04279774],\n",
       "       [ 7.05693985,  7.04985815,  7.04278354, ...,  7.03571603,\n",
       "         7.04278354,  7.04985815],\n",
       "       [ 7.06400028,  7.05692568,  7.04985815, ...,  7.04279774,\n",
       "         7.04985815,  7.05692568]])"
      ]
     },
     "execution_count": 5,
     "metadata": {},
     "output_type": "execute_result"
    }
   ],
   "source": [
    "z = np.sqrt(xs ** 2 + ys ** 2)\n",
    "z"
   ]
  },
  {
   "cell_type": "code",
   "execution_count": 15,
   "metadata": {
    "collapsed": false
   },
   "outputs": [],
   "source": [
    "plt.imshow(z, cmap=plt.cm.gray);plt.colorbar()\n",
    "plt.title(\"Image plot of $\\sqrt{x^2 + y^2}$ for a grid of values\")\n",
    "plt.show()"
   ]
  },
  {
   "cell_type": "markdown",
   "metadata": {},
   "source": [
    "![](img/figure_1.png)"
   ]
  },
  {
   "cell_type": "markdown",
   "metadata": {
    "collapsed": true
   },
   "source": [
    "## Mathematical and Statistical Methods\n",
    "Probably most relevant part of this chapter for me and doing data related shit!!!!"
   ]
  },
  {
   "cell_type": "code",
   "execution_count": 16,
   "metadata": {
    "collapsed": true
   },
   "outputs": [],
   "source": [
    "arr = np.random.randn(5, 4)"
   ]
  },
  {
   "cell_type": "code",
   "execution_count": 17,
   "metadata": {
    "collapsed": false
   },
   "outputs": [
    {
     "data": {
      "text/plain": [
       "0.13957669776061438"
      ]
     },
     "execution_count": 17,
     "metadata": {},
     "output_type": "execute_result"
    }
   ],
   "source": [
    "arr.mean()"
   ]
  },
  {
   "cell_type": "code",
   "execution_count": 18,
   "metadata": {
    "collapsed": false
   },
   "outputs": [
    {
     "data": {
      "text/plain": [
       "0.13957669776061438"
      ]
     },
     "execution_count": 18,
     "metadata": {},
     "output_type": "execute_result"
    }
   ],
   "source": [
    "np.mean(arr)"
   ]
  },
  {
   "cell_type": "code",
   "execution_count": 19,
   "metadata": {
    "collapsed": false
   },
   "outputs": [
    {
     "data": {
      "text/plain": [
       "2.7915339552122878"
      ]
     },
     "execution_count": 19,
     "metadata": {},
     "output_type": "execute_result"
    }
   ],
   "source": [
    "arr.sum()"
   ]
  },
  {
   "cell_type": "code",
   "execution_count": null,
   "metadata": {
    "collapsed": true
   },
   "outputs": [],
   "source": []
  }
 ],
 "metadata": {
  "kernelspec": {
   "display_name": "Python 2",
   "language": "python",
   "name": "python2"
  },
  "language_info": {
   "codemirror_mode": {
    "name": "ipython",
    "version": 2
   },
   "file_extension": ".py",
   "mimetype": "text/x-python",
   "name": "python",
   "nbconvert_exporter": "python",
   "pygments_lexer": "ipython2",
   "version": "2.7.6"
  }
 },
 "nbformat": 4,
 "nbformat_minor": 1
}
