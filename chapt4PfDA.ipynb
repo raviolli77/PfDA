{
 "cells": [
  {
   "cell_type": "markdown",
   "metadata": {},
   "source": [
    "Remember to load ya packages or else its going to be a shit show"
   ]
  },
  {
   "cell_type": "code",
   "execution_count": 4,
   "metadata": {
    "collapsed": false
   },
   "outputs": [],
   "source": [
    "import numpy as np"
   ]
  },
  {
   "cell_type": "markdown",
   "metadata": {},
   "source": [
    "We finna do some slicing and indexing \n"
   ]
  },
  {
   "cell_type": "code",
   "execution_count": 5,
   "metadata": {
    "collapsed": false
   },
   "outputs": [
    {
     "name": "stdout",
     "output_type": "stream",
     "text": [
      "[0 1 2 3 4 5 6 7 8 9]\n"
     ]
    }
   ],
   "source": [
    "# first we create an array that will utilize the arange function for numpy \n",
    "arr = np.arange(10)\n",
    "print arr"
   ]
  },
  {
   "cell_type": "markdown",
   "metadata": {},
   "source": [
    "Remember in python we index by starting at 0 so arange creates n-1 which is 9! Let's call up the value 5 for shits and giggles"
   ]
  },
  {
   "cell_type": "code",
   "execution_count": 7,
   "metadata": {
    "collapsed": false
   },
   "outputs": [
    {
     "name": "stdout",
     "output_type": "stream",
     "text": [
      "5\n"
     ]
    }
   ],
   "source": [
    "print arr[5]"
   ]
  },
  {
   "cell_type": "markdown",
   "metadata": {},
   "source": [
    "So next we index by calling more than one at a time using the : let's try 4-7"
   ]
  },
  {
   "cell_type": "code",
   "execution_count": 10,
   "metadata": {
    "collapsed": false
   },
   "outputs": [
    {
     "name": "stdout",
     "output_type": "stream",
     "text": [
      "[4 5 6]\n"
     ]
    }
   ],
   "source": [
    "print arr[4:7]"
   ]
  },
  {
   "cell_type": "code",
   "execution_count": 14,
   "metadata": {
    "collapsed": false
   },
   "outputs": [
    {
     "name": "stdout",
     "output_type": "stream",
     "text": [
      "[ 0  1 42 42  4  5  6  7  8  9]\n"
     ]
    }
   ],
   "source": [
    "# Next let's change the values for a group of indices! Notice how it changes them all super important to differentiate this\n",
    "# Especially when using a shit ton of rows in analysis \n",
    "arr[2:4] = 42\n",
    "print arr"
   ]
  },
  {
   "cell_type": "markdown",
   "metadata": {},
   "source": [
    "here we'll how np arrays work in that even though we created a new object named arr_slice. when we change the value for that variable the original object (arr) will also have these changes! SUPER IMPORTANT TO KEEP IN MIND WHEN DOING ANALYSIS "
   ]
  },
  {
   "cell_type": "code",
   "execution_count": 21,
   "metadata": {
    "collapsed": false
   },
   "outputs": [
    {
     "name": "stdout",
     "output_type": "stream",
     "text": [
      "42\n",
      "[    0     1    42 12345     4     5     6     7     8     9]\n"
     ]
    }
   ],
   "source": [
    "arr_slice = arr[2:4]\n",
    "print arr_slice[1]\n",
    "arr_slice[1] = 12345\n",
    "print arr"
   ]
  },
  {
   "cell_type": "markdown",
   "metadata": {},
   "source": [
    "Holy shit look at that!! Remember this shit. Now we do other shit that's super important!"
   ]
  },
  {
   "cell_type": "code",
   "execution_count": 25,
   "metadata": {
    "collapsed": false
   },
   "outputs": [
    {
     "name": "stdout",
     "output_type": "stream",
     "text": [
      "[ 0  1 69 69  4  5  6  7  8  9]\n"
     ]
    }
   ],
   "source": [
    "arr_slice[:] = 69\n",
    "print arr"
   ]
  },
  {
   "cell_type": "markdown",
   "metadata": {},
   "source": [
    "See that shit!! important af. This is how you recognize the (I'm assuming) difference between numpy arrays and pandas data frames. Since the book keeps telling me that this is how numpy is set apart from other forms of data storage. WHich makes a shit ton of sense cus I'm use to data frames with r where once you subset an object it is its own entity!"
   ]
  },
  {
   "cell_type": "markdown",
   "metadata": {},
   "source": [
    "The way you make a copy you need to explicitly make a copy!!!! \n"
   ]
  },
  {
   "cell_type": "code",
   "execution_count": 32,
   "metadata": {
    "collapsed": false
   },
   "outputs": [
    {
     "name": "stdout",
     "output_type": "stream",
     "text": [
      "[69 69]\n",
      "[14 14]\n",
      "[ 0  1 69 69  4  5  6  7  8  9]\n"
     ]
    }
   ],
   "source": [
    "arr_copy = arr[2:4].copy()\n",
    "print arr_copy\n",
    "arr_copy[:] = 14\n",
    "# First we print the copy to make sure the values changed to 14\n",
    "print arr_copy\n",
    "# Now we print the original array to see that was left untouched\n",
    "print arr "
   ]
  },
  {
   "cell_type": "markdown",
   "metadata": {},
   "source": [
    "Now that we're done with the easy shit let's go balls deep into the good shit. The shit with dimensions!!!"
   ]
  },
  {
   "cell_type": "code",
   "execution_count": 37,
   "metadata": {
    "collapsed": false
   },
   "outputs": [
    {
     "name": "stdout",
     "output_type": "stream",
     "text": [
      "Here's the array\n",
      "[[  1   2   3]\n",
      " [ 77 109  23]\n",
      " [ 13  90  33]]\n",
      "Index selecting for 2d array\n",
      "[13 90 33]\n"
     ]
    }
   ],
   "source": [
    "# First we create the 2d array \n",
    "arr2d = np.array([[1, 2, 3], [77, 109, 23], [13, 90, 33]])\n",
    "print \"Here's the array\"\n",
    "print arr2d\n",
    "# Let's scope out the indexing for this bitch\n",
    "print \"Index selecting for 2d array\"\n",
    "print arr2d[2]"
   ]
  },
  {
   "cell_type": "markdown",
   "metadata": {},
   "source": [
    "Next we access individual values within the 2d array which is done more than one way but I'll mention which is the most used "
   ]
  },
  {
   "cell_type": "code",
   "execution_count": 40,
   "metadata": {
    "collapsed": false
   },
   "outputs": [
    {
     "name": "stdout",
     "output_type": "stream",
     "text": [
      "A way of doing it (not recommended)\n",
      "3\n",
      "Proper way, son. Facts b\n",
      "3\n"
     ]
    }
   ],
   "source": [
    "# Here's a way you can do it but its not the recommended way!\n",
    "print \"A way of doing it (not recommended)\"\n",
    "print arr2d[0][2]\n",
    "# Here the actual way to do it\n",
    "print \"Proper way, son. Facts b\"\n",
    "print arr2d[0, 2]"
   ]
  },
  {
   "cell_type": "markdown",
   "metadata": {},
   "source": [
    "NOW WE DO SOME 3D SHIT YO FUCK WIT YO SHIT"
   ]
  },
  {
   "cell_type": "code",
   "execution_count": 77,
   "metadata": {
    "collapsed": false
   },
   "outputs": [
    {
     "name": "stdout",
     "output_type": "stream",
     "text": [
      "[[[1, 5, 3] [5, 7, 2]]\n",
      " [[12, 6, 666] [0, 54, 8, 54]]]\n"
     ]
    }
   ],
   "source": [
    "arr3d = np.array([[[1, 5, 3],[5, 7, 2]], [[12, 6, 666], [0, 54, 8, 54]]])\n",
    "print arr3d"
   ]
  },
  {
   "cell_type": "markdown",
   "metadata": {},
   "source": [
    "Let's fuck with some indexing and slicing on this bad boy here"
   ]
  },
  {
   "cell_type": "code",
   "execution_count": 71,
   "metadata": {
    "collapsed": false
   },
   "outputs": [
    {
     "name": "stdout",
     "output_type": "stream",
     "text": [
      "[[1, 5, 3] [5, 7, 2]]\n"
     ]
    }
   ],
   "source": [
    "print arr3d[0]"
   ]
  },
  {
   "cell_type": "markdown",
   "metadata": {},
   "source": [
    "Now let's make a copy of this 3d array and do shit with it"
   ]
  },
  {
   "cell_type": "code",
   "execution_count": 96,
   "metadata": {
    "collapsed": false
   },
   "outputs": [
    {
     "name": "stdout",
     "output_type": "stream",
     "text": [
      "Here's the old values\n",
      "[[42, 42, 42] [42, 42, 42]]\n",
      "Here's the og array\n",
      "[[[42, 42, 42] [42, 42, 42]]\n",
      " [[12, 6, 666] [0, 54, 8, 54]]]\n"
     ]
    }
   ],
   "source": [
    "old_values = arr3d[0].copy()\n",
    "print \"Here's the old values\"\n",
    "print old_values\n",
    "arr3d[0] = [[42, 42, 42],[42, 42, 42]]\n",
    "print \"Here's the og array\"\n",
    "print arr3d"
   ]
  },
  {
   "cell_type": "markdown",
   "metadata": {},
   "source": [
    "Let's fuck some shit up"
   ]
  },
  {
   "cell_type": "code",
   "execution_count": 99,
   "metadata": {
    "collapsed": false
   },
   "outputs": [
    {
     "name": "stdout",
     "output_type": "stream",
     "text": [
      "Here's the og object\n",
      "[[[42, 42, 42] [42, 42, 42]]\n",
      " [[12, 6, 666] [0, 54, 8, 54]]]\n",
      "Here's transformation I did\n",
      "[[[42, 42, 42] [42, 42, 42]]\n",
      " [[12, 6, 666] [0, 54, 8, 54]]]\n",
      "Here are values whose indices start with (1, 0)\n",
      "[12, 6, 666]\n"
     ]
    }
   ],
   "source": [
    "# Here we change the values because we fucking can \n",
    "print \"Here's the og object\"\n",
    "print arr3d\n",
    "# Next we change the values according to the old values and the object chagnes accordingly!!!! FUCK YESS!!\n",
    "arr3d[0] = old_values\n",
    "print \"Here's transformation I did\"\n",
    "print arr3d\n",
    "# Now let's do ome indexing that will make data 1d\n",
    "print \"Here are values whose indices start with (1, 0)\"\n",
    "print arr3d[1, 0]"
   ]
  },
  {
   "cell_type": "markdown",
   "metadata": {},
   "source": [
    "# Next we index with slicing \n"
   ]
  },
  {
   "cell_type": "code",
   "execution_count": 103,
   "metadata": {
    "collapsed": false
   },
   "outputs": [
    {
     "name": "stdout",
     "output_type": "stream",
     "text": [
      "The original array\n",
      "[ 0  1 69 69  4  5  6  7  8  9]\n",
      "Here we slice by index\n",
      "[ 1 69 69  4  5]\n"
     ]
    }
   ],
   "source": [
    "# I need to print the original array because I probably wouldn't have context \n",
    "print \"The original array\"\n",
    "print arr\n",
    "print \"Here we slice by index\"\n",
    "print arr[1:6]"
   ]
  },
  {
   "cell_type": "code",
   "execution_count": 107,
   "metadata": {
    "collapsed": false
   },
   "outputs": [
    {
     "name": "stdout",
     "output_type": "stream",
     "text": [
      "Here's the 2d array\n",
      "[[  1   2   3]\n",
      " [ 77 109  23]\n",
      " [ 13  90  33]]\n",
      "Here's some playing with the index\n",
      "[[  1   2   3]\n",
      " [ 77 109  23]]\n"
     ]
    }
   ],
   "source": [
    "print \"Here's the 2d array\"\n",
    "print arr2d\n",
    "print \"Here's some playing with the index\"\n",
    "print arr2d[:2]"
   ]
  },
  {
   "cell_type": "markdown",
   "metadata": {},
   "source": []
  }
 ],
 "metadata": {
  "kernelspec": {
   "display_name": "Python 2",
   "language": "python",
   "name": "python2"
  },
  "language_info": {
   "codemirror_mode": {
    "name": "ipython",
    "version": 2
   },
   "file_extension": ".py",
   "mimetype": "text/x-python",
   "name": "python",
   "nbconvert_exporter": "python",
   "pygments_lexer": "ipython2",
   "version": "2.7.6"
  }
 },
 "nbformat": 4,
 "nbformat_minor": 1
}
